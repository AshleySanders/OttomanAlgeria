{
 "cells": [
  {
   "cell_type": "markdown",
   "metadata": {},
   "source": [
    "## Key Concepts\n",
    "\n",
    "### Vocabulary\n",
    "* <b>Bootstrap:</b> a method of sampling data by drawing values out of a population and replacing them so every value has an equally likely chance of being drawn on every selection\n",
    "* <b>Sample Statistic:</b> a metric calculated for a sample of data drawn from a larger population\n",
    "* <b>Data Distribution:</b> the frequency distribution of individual values in a data set\n",
    "* <b>Sampling Distribution:</b> the frequency distribution of a sample <em>statistic</em> over many samples or resamples\n",
    "* <b>Central Limit Theorem:</b> the tendency of the sampling distribution to take on a normal shape as sample size rises.\n",
    "* <b>Standard Error:</b> the variability of a sample <em>statistic</em> over many samples. <b>Not to be confused with <em>standard deviation</em></b>, which refers to the variability of individual data <em>values</em>\n",
    "* <b>Confidence Interval:</b> combines a point estimate with the uncertainty in that estimate\n",
    "* <b>Confidence Level:</b> the percentage of confidence intervals, constructed in the same way from the same population, that are expected to contain the statistic of interest\n",
    "* <b>Interval Endpoints:</b> the top and bottom of the confidence interval\n",
    "* <b>t-distribution:</b> a normally shaped distribution, except that it is a bit thicker and longer on the tails. it is used extensively in depicting distributions of sample statistics. Distributions of sample means are typically shaped like a t-distribution. The larger the sample, the more normally shaped the t-distribution becomes.\n",
    "* <b><em>n</em>:</b> sample size\n",
    "* <b>Degrees of freedom:</b> a parameter that allows the t-distribution to adjust to different sample sizes, statistics, and number of groups\n",
    "* <b>Test Statistic:</b> a metric for the difference or effect of interest\n",
    "* <b>t-statistic:</b> a standardized version of common test statistics, such as means\n",
    "\n",
    "### Key Ideas\n",
    "* The frequency distribution of a <em>sample statistic</em> tells us how much that metric would turn out differently form sample to sample.\n",
    "* A key metric that sums up the variability of a sample statistic is its <em>standard error</em>\n",
    "* <em>Confidence intervals</em> are the typical way to present estimates as an interval range. The more data you have, the less variable a sample estimate will be\n",
    "* The lower the level of confidence you can tolerate, the narrower the confidence interval will be.\n",
    "* The <em>bootstrap</em> is an effective way to construct confidence intervals\n",
    "* <b>The t-test is used to compare the differences between sample statistics of two groups.</b> When we get into ANOVA testing, which is based on the t-test, we can compare multiple groups at once. \n",
    "\n",
    "### Historical Context\n",
    "\n",
    "![scatterplot showing that most of Constantine's governors served far longer than the expected three-year terms common throughout the rest of the Ottoman empire](Scatter-Tenure_RefLine_ColorBlind.png \"Scatterplot of Constantinian Governors' Tenures\")\n",
    "\n",
    "The chart above suggests the ways in which Constantine, Algeria was unique among the rest of the Ottoman Empire's provinces in terms of governors’ tenures. Throughout the empire, governors were limited to three-year terms and then moved to a new location. By adding a reference line at three years, it is immediately obvious that Constantine is an outlier in the way that imperial service is carried out, as many governors served significantly longer than standard three-year term suggested in the historical literature. This is a clue that something unusual is happening in Algeria that might be worth paying attention to and suggests another question: Why were Constantine’s governors allowed to serve much longer terms than governors in other provinces? It also invites questions about what made certain governors successful, while others had barely started their terms before they were removed. The questions inspired by the chart above can be further investigated with inferential statistics, which is the focus of this tutorial.\n",
    "\n",
    "### Data\n",
    "Our data for this lesson is a listing of Ottoman provincial governors' names, dates in office, and tenure length in years for the following capitals:\n",
    "* Constantine, Algeria\n",
    "* Algiers, Algeria\n",
    "* Damascus, Syria\n",
    "* Cairo Egypt\n"
   ]
  },
  {
   "cell_type": "markdown",
   "metadata": {},
   "source": [
    "## Inferential Statistics in R\n",
    "\n",
    "Before we get to the Student's t-test, let's explore the data and develop some hypothesis that we can then examine with the t-test.\n",
    "\n",
    "### ! Important !\n",
    "\n",
    "When you apply this lesson to your own data, first <b>identify ratio (quantitative) data that you want to investigate based on a grouping strategy by a categorical data variable.</b> In this case, we are exploring tenure data, which is quantitative, specifically ratio, data. Rather than taking the population mean of tenure data (calculating the mean of tenure lengths for the entire data set), we're going to look at how the means differ across four different provincial capitals, which are categorical, specifcally, nominal data. \n",
    "\n",
    "### 1. Ensure you add the packages we will use in this lesson to your R workbook's library"
   ]
  },
  {
   "cell_type": "code",
   "execution_count": 1,
   "metadata": {},
   "outputs": [
    {
     "name": "stderr",
     "output_type": "stream",
     "text": [
      "\n",
      "Attaching package: ‘dplyr’\n",
      "\n",
      "\n",
      "The following objects are masked from ‘package:stats’:\n",
      "\n",
      "    filter, lag\n",
      "\n",
      "\n",
      "The following objects are masked from ‘package:base’:\n",
      "\n",
      "    intersect, setdiff, setequal, union\n",
      "\n",
      "\n"
     ]
    }
   ],
   "source": [
    "#you can ignore the red box that will appear when you add dplyr to your library.\n",
    "S\n",
    "library(dplyr)\n",
    "library(ggplot2)\n",
    "library(ggpubr)"
   ]
  },
  {
   "cell_type": "markdown",
   "metadata": {},
   "source": [
    "### 2. Import data\n",
    "\n",
    "<a href=\"https://www.dropbox.com/s/3oq38n9lctw8jik/OttomanGovData.csv?dl=0\">Data</a> for this lesson can be found at the included hyperlink. Download and save it. Note its \"path,\" the set of folders you need to direct the script to \"walk through\" to get to your file location. "
   ]
  },
  {
   "cell_type": "code",
   "execution_count": 2,
   "metadata": {},
   "outputs": [
    {
     "data": {
      "text/html": [
       "<table>\n",
       "<caption>A data.frame: 6 × 9</caption>\n",
       "<thead>\n",
       "\t<tr><th></th><th scope=col>Name</th><th scope=col>StartDate</th><th scope=col>EndDate</th><th scope=col>Tenure</th><th scope=col>CapitalCity</th><th scope=col>Country</th><th scope=col>Fate</th><th scope=col>Ethnicity</th><th scope=col>CapitalCode</th></tr>\n",
       "\t<tr><th></th><th scope=col>&lt;chr&gt;</th><th scope=col>&lt;chr&gt;</th><th scope=col>&lt;chr&gt;</th><th scope=col>&lt;dbl&gt;</th><th scope=col>&lt;chr&gt;</th><th scope=col>&lt;chr&gt;</th><th scope=col>&lt;chr&gt;</th><th scope=col>&lt;chr&gt;</th><th scope=col>&lt;int&gt;</th></tr>\n",
       "</thead>\n",
       "<tbody>\n",
       "\t<tr><th scope=row>1</th><td>Ramdane-Tchoulak Bey            </td><td>1567</td><td>1574</td><td> 7</td><td>Constantine</td><td>Algeria</td><td>Non-Violent Fate</td><td>Ottoman </td><td>0</td></tr>\n",
       "\t<tr><th scope=row>2</th><td>Djaafar Bey                     </td><td>1574</td><td>1588</td><td>14</td><td>Constantine</td><td>Algeria</td><td>Non-Violent Fate</td><td>Ottoman </td><td>0</td></tr>\n",
       "\t<tr><th scope=row>3</th><td>Mohammed Ben Ferhat Bey         </td><td>1588</td><td>1608</td><td>20</td><td>Constantine</td><td>Algeria</td><td>Killed in battle</td><td>Algerian</td><td>0</td></tr>\n",
       "\t<tr><th scope=row>4</th><td>Hassan Bey                      </td><td>1608</td><td>1622</td><td>14</td><td>Constantine</td><td>Algeria</td><td>Non-Violent Fate</td><td>Ottoman </td><td>0</td></tr>\n",
       "\t<tr><th scope=row>5</th><td>Mourad bey                      </td><td>1622</td><td>1647</td><td>25</td><td>Constantine</td><td>Algeria</td><td>Killed in battle</td><td>Ottoman </td><td>0</td></tr>\n",
       "\t<tr><th scope=row>6</th><td>Ferhat Bey                      </td><td>1647</td><td>1653</td><td> 6</td><td>Constantine</td><td>Algeria</td><td>Non-Violent Fate</td><td>Ottoman </td><td>0</td></tr>\n",
       "</tbody>\n",
       "</table>\n"
      ],
      "text/latex": [
       "A data.frame: 6 × 9\n",
       "\\begin{tabular}{r|lllllllll}\n",
       "  & Name & StartDate & EndDate & Tenure & CapitalCity & Country & Fate & Ethnicity & CapitalCode\\\\\n",
       "  & <chr> & <chr> & <chr> & <dbl> & <chr> & <chr> & <chr> & <chr> & <int>\\\\\n",
       "\\hline\n",
       "\t1 & Ramdane-Tchoulak Bey             & 1567 & 1574 &  7 & Constantine & Algeria & Non-Violent Fate & Ottoman  & 0\\\\\n",
       "\t2 & Djaafar Bey                      & 1574 & 1588 & 14 & Constantine & Algeria & Non-Violent Fate & Ottoman  & 0\\\\\n",
       "\t3 & Mohammed Ben Ferhat Bey          & 1588 & 1608 & 20 & Constantine & Algeria & Killed in battle & Algerian & 0\\\\\n",
       "\t4 & Hassan Bey                       & 1608 & 1622 & 14 & Constantine & Algeria & Non-Violent Fate & Ottoman  & 0\\\\\n",
       "\t5 & Mourad bey                       & 1622 & 1647 & 25 & Constantine & Algeria & Killed in battle & Ottoman  & 0\\\\\n",
       "\t6 & Ferhat Bey                       & 1647 & 1653 &  6 & Constantine & Algeria & Non-Violent Fate & Ottoman  & 0\\\\\n",
       "\\end{tabular}\n"
      ],
      "text/markdown": [
       "\n",
       "A data.frame: 6 × 9\n",
       "\n",
       "| <!--/--> | Name &lt;chr&gt; | StartDate &lt;chr&gt; | EndDate &lt;chr&gt; | Tenure &lt;dbl&gt; | CapitalCity &lt;chr&gt; | Country &lt;chr&gt; | Fate &lt;chr&gt; | Ethnicity &lt;chr&gt; | CapitalCode &lt;int&gt; |\n",
       "|---|---|---|---|---|---|---|---|---|---|\n",
       "| 1 | Ramdane-Tchoulak Bey             | 1567 | 1574 |  7 | Constantine | Algeria | Non-Violent Fate | Ottoman  | 0 |\n",
       "| 2 | Djaafar Bey                      | 1574 | 1588 | 14 | Constantine | Algeria | Non-Violent Fate | Ottoman  | 0 |\n",
       "| 3 | Mohammed Ben Ferhat Bey          | 1588 | 1608 | 20 | Constantine | Algeria | Killed in battle | Algerian | 0 |\n",
       "| 4 | Hassan Bey                       | 1608 | 1622 | 14 | Constantine | Algeria | Non-Violent Fate | Ottoman  | 0 |\n",
       "| 5 | Mourad bey                       | 1622 | 1647 | 25 | Constantine | Algeria | Killed in battle | Ottoman  | 0 |\n",
       "| 6 | Ferhat Bey                       | 1647 | 1653 |  6 | Constantine | Algeria | Non-Violent Fate | Ottoman  | 0 |\n",
       "\n"
      ],
      "text/plain": [
       "  Name                             StartDate EndDate Tenure CapitalCity Country\n",
       "1 Ramdane-Tchoulak Bey             1567      1574     7     Constantine Algeria\n",
       "2 Djaafar Bey                      1574      1588    14     Constantine Algeria\n",
       "3 Mohammed Ben Ferhat Bey          1588      1608    20     Constantine Algeria\n",
       "4 Hassan Bey                       1608      1622    14     Constantine Algeria\n",
       "5 Mourad bey                       1622      1647    25     Constantine Algeria\n",
       "6 Ferhat Bey                       1647      1653     6     Constantine Algeria\n",
       "  Fate             Ethnicity CapitalCode\n",
       "1 Non-Violent Fate Ottoman   0          \n",
       "2 Non-Violent Fate Ottoman   0          \n",
       "3 Killed in battle Algerian  0          \n",
       "4 Non-Violent Fate Ottoman   0          \n",
       "5 Killed in battle Ottoman   0          \n",
       "6 Non-Violent Fate Ottoman   0          "
      ]
     },
     "metadata": {},
     "output_type": "display_data"
    }
   ],
   "source": [
    "#import the data and save it as a name by which it can be referred throughout the lesson\n",
    "OttomanGovData <- read.csv(\"~/Dropbox/Scholarship/AhmedBey/Comparative-GovData/OttomanGovData.csv\")\n",
    "\n",
    "#preview the data\n",
    "head(OttomanGovData)"
   ]
  },
  {
   "cell_type": "markdown",
   "metadata": {},
   "source": [
    "### 3. Begin by exploring the means of each group\n",
    "\n",
    "In our case study, we will examine the mean tenure lengths of governors across four Ottoman provincial capitals."
   ]
  },
  {
   "cell_type": "code",
   "execution_count": 7,
   "metadata": {},
   "outputs": [
    {
     "name": "stdout",
     "output_type": "stream",
     "text": [
      "[1] \"The mean of governors' tenures in Constantine is: \"\n"
     ]
    },
    {
     "data": {
      "text/html": [
       "5.85433293623913"
      ],
      "text/latex": [
       "5.85433293623913"
      ],
      "text/markdown": [
       "5.85433293623913"
      ],
      "text/plain": [
       "[1] 5.854333"
      ]
     },
     "metadata": {},
     "output_type": "display_data"
    },
    {
     "name": "stdout",
     "output_type": "stream",
     "text": [
      "[1] \"The mean of governors' tenures in Algiers is: \"\n"
     ]
    },
    {
     "data": {
      "text/html": [
       "3.07843137254902"
      ],
      "text/latex": [
       "3.07843137254902"
      ],
      "text/markdown": [
       "3.07843137254902"
      ],
      "text/plain": [
       "[1] 3.078431"
      ]
     },
     "metadata": {},
     "output_type": "display_data"
    },
    {
     "name": "stdout",
     "output_type": "stream",
     "text": [
      "[1] \"The mean of governors' tenures in Damascus is:\"\n"
     ]
    },
    {
     "data": {
      "text/html": [
       "1.42897540983607"
      ],
      "text/latex": [
       "1.42897540983607"
      ],
      "text/markdown": [
       "1.42897540983607"
      ],
      "text/plain": [
       "[1] 1.428975"
      ]
     },
     "metadata": {},
     "output_type": "display_data"
    },
    {
     "name": "stdout",
     "output_type": "stream",
     "text": [
      "[1] \"The mean of governors' tenures in Cairo is: \"\n"
     ]
    },
    {
     "data": {
      "text/html": [
       "1.95908183632934"
      ],
      "text/latex": [
       "1.95908183632934"
      ],
      "text/markdown": [
       "1.95908183632934"
      ],
      "text/plain": [
       "[1] 1.959082"
      ]
     },
     "metadata": {},
     "output_type": "display_data"
    }
   ],
   "source": [
    "#calculate means using the mean() function and slicing the data by your chosen groups, in this case, capitals.\n",
    "#The print command reminds us what the number represents.\n",
    "#Make sure to enclose the grouping category (i.e., \"Constantine\") in quotation marks.\n",
    "print(\"The mean of governors' tenures in Constantine is: \")\n",
    "mean(OttomanGovData$Tenure[OttomanGovData$CapitalCity==\"Constantine\"])\n",
    "\n",
    "print(\"The mean of governors' tenures in Algiers is: \")\n",
    "mean(OttomanGovData$Tenure[OttomanGovData$CapitalCity==\"Algiers\"])\n",
    "\n",
    "print(\"The mean of governors' tenures in Damascus is:\")\n",
    "mean(OttomanGovData$Tenure[OttomanGovData$CapitalCity==\"Damascus\"])\n",
    "\n",
    "print(\"The mean of governors' tenures in Cairo is: \")\n",
    "mean(OttomanGovData$Tenure[OttomanGovData$CapitalCity==\"Cairo\"])"
   ]
  },
  {
   "cell_type": "markdown",
   "metadata": {},
   "source": [
    "#### Observations\n",
    "Be sure to write out your observations at this step, which will help you develop a sense for potential patterns in your data. \n",
    "\n",
    "In this case, I notice that the Constantine's mean tenure length is nearly double Algiers' mean, and it's roughly three times greater than the means for Damascus and Cairo, which adds evidence for our remarks in the introduction that something unusual seemed to happen in Constantine that did not occur in other provincial capitals. \n"
   ]
  },
  {
   "cell_type": "markdown",
   "metadata": {},
   "source": [
    "### 4. Calculate the standard deviations for each of the groups"
   ]
  },
  {
   "cell_type": "code",
   "execution_count": 8,
   "metadata": {},
   "outputs": [
    {
     "name": "stdout",
     "output_type": "stream",
     "text": [
      "[1] \"The standard deviation of governors' tenures in Constantine is: \"\n"
     ]
    },
    {
     "data": {
      "text/html": [
       "6.81079710327629"
      ],
      "text/latex": [
       "6.81079710327629"
      ],
      "text/markdown": [
       "6.81079710327629"
      ],
      "text/plain": [
       "[1] 6.810797"
      ]
     },
     "metadata": {},
     "output_type": "display_data"
    },
    {
     "name": "stdout",
     "output_type": "stream",
     "text": [
      "[1] \"The standard deviation of governors' tenures in Algiers is: \"\n"
     ]
    },
    {
     "data": {
      "text/html": [
       "3.76457241075765"
      ],
      "text/latex": [
       "3.76457241075765"
      ],
      "text/markdown": [
       "3.76457241075765"
      ],
      "text/plain": [
       "[1] 3.764572"
      ]
     },
     "metadata": {},
     "output_type": "display_data"
    },
    {
     "name": "stdout",
     "output_type": "stream",
     "text": [
      "[1] \"The standard deviation of governors' tenures in Damascus is:\"\n"
     ]
    },
    {
     "data": {
      "text/html": [
       "1.77474955498851"
      ],
      "text/latex": [
       "1.77474955498851"
      ],
      "text/markdown": [
       "1.77474955498851"
      ],
      "text/plain": [
       "[1] 1.77475"
      ]
     },
     "metadata": {},
     "output_type": "display_data"
    },
    {
     "name": "stdout",
     "output_type": "stream",
     "text": [
      "[1] \"The standard deviation of governors' tenures in Cairo is: \"\n"
     ]
    },
    {
     "data": {
      "text/html": [
       "3.57166153019797"
      ],
      "text/latex": [
       "3.57166153019797"
      ],
      "text/markdown": [
       "3.57166153019797"
      ],
      "text/plain": [
       "[1] 3.571662"
      ]
     },
     "metadata": {},
     "output_type": "display_data"
    }
   ],
   "source": [
    "#calculate standard deviations using the sd() function:\n",
    "\n",
    "print(\"The standard deviation of governors' tenures in Constantine is: \")\n",
    "sd(OttomanGovData$Tenure[OttomanGovData$CapitalCity==\"Constantine\"])\n",
    "\n",
    "print(\"The standard deviation of governors' tenures in Algiers is: \")\n",
    "sd(OttomanGovData$Tenure[OttomanGovData$CapitalCity==\"Algiers\"])\n",
    "\n",
    "print(\"The standard deviation of governors' tenures in Damascus is:\")\n",
    "sd(OttomanGovData$Tenure[OttomanGovData$CapitalCity==\"Damascus\"])\n",
    "\n",
    "print(\"The standard deviation of governors' tenures in Cairo is: \")\n",
    "sd(OttomanGovData$Tenure[OttomanGovData$CapitalCity==\"Cairo\"])"
   ]
  },
  {
   "cell_type": "markdown",
   "metadata": {},
   "source": [
    "#### Observations\n",
    "Again, be sure to write out your observations at this step, which will help you develop a sense for potential patterns in your data. \n",
    "\n",
    "Again, Constantine stands out as unusual. Not only did its governors have the highest mean tenure length, but also, their tenures were the most variable. Algiers and Cairo follow with the next highest standard deviations, which are quite similar to one another, while Damascus experienced the least variability in governors' tenure lengths and had the lowest mean tenure length of the four Arab provincial capitals examined here."
   ]
  },
  {
   "cell_type": "markdown",
   "metadata": {},
   "source": [
    "### 5. Construct a box plot to visualize the summary statistics for the data\n",
    "\n"
   ]
  },
  {
   "cell_type": "code",
   "execution_count": 11,
   "metadata": {},
   "outputs": [
    {
     "data": {
      "image/png": "[encoded data removed]",
      "text/plain": [
       "plot without title"
      ]
     },
     "metadata": {
      "image/png": {
       "height": 420,
       "width": 420
      }
     },
     "output_type": "display_data"
    }
   ],
   "source": [
    "ggsummarystats(OttomanGovData, x=\"CapitalCode\", y=\"Tenure\", ggfunc=ggboxplot, color=\"CapitalCode\")\n",
    "\n",
    "#Red    (0) = Constantine\n",
    "#Green  (1) = Algiers\n",
    "#Blue   (2) = Damascus\n",
    "#Purple (3) = Cairo"
   ]
  },
  {
   "cell_type": "markdown",
   "metadata": {},
   "source": [
    "#### Observations \n",
    "\n",
    "The above box plots confirm what we noticed from our quantitative analysis of the tenure means across the four provincial capitals, notably that Constantine's governors seemed to generally hold office far longer than governors of other provinces, but their tenure lengths were also more variable. There is one notable exception to this rule in Cairo, which we would not have noticed without the boxplots. This extreme outlier skews Cairo's mean and slightly skews its standard deviation, a fact that should be remembered as we continue our analysis."
   ]
  },
  {
   "cell_type": "markdown",
   "metadata": {},
   "source": [
    "### 6. Generate a hypothesis to test with the Student's t-test\n",
    "\n",
    "<b>Hypothesis:</b> The difference between the mean tenure lengths for Constantine's governors and the other Arab provinces in the dataset is both meaningful, as evidenced by the confidence interval, and statistically signficant, as evidenced by the p-value."
   ]
  },
  {
   "cell_type": "markdown",
   "metadata": {},
   "source": [
    "### 7. Ensure that the distribution of sample means from our dataset approximates the t-distribution\n",
    "\n",
    "![alt text](t-distribution-smaller.png \"t-distribution\")"
   ]
  },
  {
   "cell_type": "code",
   "execution_count": 12,
   "metadata": {},
   "outputs": [
    {
     "data": {
      "text/html": [
       "5.7516438356"
      ],
      "text/latex": [
       "5.7516438356"
      ],
      "text/markdown": [
       "5.7516438356"
      ],
      "text/plain": [
       "[1] 5.751644"
      ]
     },
     "metadata": {},
     "output_type": "display_data"
    }
   ],
   "source": [
    "#calculate one sample mean from your dataset to see how the code works\n",
    "#this is the bootstrap method because we replace the values for consideration in subsequent selections\n",
    "mean(sample(OttomanGovData$Tenure[OttomanGovData$CapitalCode==0], size=30, replace=TRUE)) #Constantine"
   ]
  },
  {
   "cell_type": "code",
   "execution_count": 15,
   "metadata": {},
   "outputs": [
    {
     "data": {
      "text/html": [
       "<style>\n",
       ".list-inline {list-style: none; margin:0; padding: 0}\n",
       ".list-inline>li {display: inline-block}\n",
       ".list-inline>li:not(:last-child)::after {content: \"\\00b7\"; padding: 0 .5ex}\n",
       "</style>\n",
       "<ol class=list-inline><li>4.2227701674</li><li>2.69025875183333</li><li>4.2611111111</li><li>3.7863850837</li><li>3.30277777776667</li><li>2.25610350073333</li></ol>\n"
      ],
      "text/latex": [
       "\\begin{enumerate*}\n",
       "\\item 4.2227701674\n",
       "\\item 2.69025875183333\n",
       "\\item 4.2611111111\n",
       "\\item 3.7863850837\n",
       "\\item 3.30277777776667\n",
       "\\item 2.25610350073333\n",
       "\\end{enumerate*}\n"
      ],
      "text/markdown": [
       "1. 4.2227701674\n",
       "2. 2.69025875183333\n",
       "3. 4.2611111111\n",
       "4. 3.7863850837\n",
       "5. 3.30277777776667\n",
       "6. 2.25610350073333\n",
       "\n",
       "\n"
      ],
      "text/plain": [
       "[1] 4.222770 2.690259 4.261111 3.786385 3.302778 2.256104"
      ]
     },
     "metadata": {},
     "output_type": "display_data"
    }
   ],
   "source": [
    "#replicate bootstrap sampling and take the difference of the sample means between two groups\n",
    "meanDiffs_Algeria <- replicate(100, mean(sample(OttomanGovData$Tenure[OttomanGovData$CapitalCode==0], size = 30, replace=TRUE)) - mean(sample(OttomanGovData$Tenure[OttomanGovData$CapitalCode==1], size=30, replace=TRUE)))\n",
    "\n",
    "#preview data\n",
    "head(meanDiffs_Algeria)"
   ]
  },
  {
   "cell_type": "markdown",
   "metadata": {},
   "source": [
    "#### Create a histogram of the differences between the sample means from Constantine and Algeria to check that its shape approximates the t-distribution, shown above"
   ]
  },
  {
   "cell_type": "code",
   "execution_count": 16,
   "metadata": {},
   "outputs": [
    {
     "data": {
      "image/png": "[encoded data removed]",
      "text/plain": [
       "Plot with title “Histogram of meanDiffs_Algeria”"
      ]
     },
     "metadata": {
      "image/png": {
       "height": 420,
       "width": 420
      }
     },
     "output_type": "display_data"
    }
   ],
   "source": [
    "hist(meanDiffs_Algeria)"
   ]
  },
  {
   "cell_type": "markdown",
   "metadata": {},
   "source": [
    "#### Observations\n",
    "\n",
    "First, it is important to note that the distribution of the sample mean differences approximates the t-distribution, so we can apply the t-test in the next step. \n",
    "\n",
    "Secondly, based on the histogram above, it appears that Constantine's governors generally served about 3 years longer than those in Algiers. The next step is to calculate the range of the 95% confidence interval for the tenure mean differences between these two cities. "
   ]
  },
  {
   "cell_type": "markdown",
   "metadata": {},
   "source": [
    "### 8. Calculate 95% confidence interval of mean differences\n"
   ]
  },
  {
   "cell_type": "code",
   "execution_count": 17,
   "metadata": {},
   "outputs": [
    {
     "data": {
      "text/html": [
       "<style>\n",
       ".dl-inline {width: auto; margin:0; padding: 0}\n",
       ".dl-inline>dt, .dl-inline>dd {float: none; width: auto; display: inline-block}\n",
       ".dl-inline>dt::after {content: \":\\0020\"; padding-right: .5ex}\n",
       ".dl-inline>dt:not(:first-of-type) {padding-left: .5ex}\n",
       "</style><dl class=dl-inline><dt>2.5%</dt><dd>0.832904109563333</dd><dt>97.5%</dt><dd>5.084816400275</dd></dl>\n"
      ],
      "text/latex": [
       "\\begin{description*}\n",
       "\\item[2.5\\textbackslash{}\\%] 0.832904109563333\n",
       "\\item[97.5\\textbackslash{}\\%] 5.084816400275\n",
       "\\end{description*}\n"
      ],
      "text/markdown": [
       "2.5%\n",
       ":   0.83290410956333397.5%\n",
       ":   5.084816400275\n",
       "\n"
      ],
      "text/plain": [
       "     2.5%     97.5% \n",
       "0.8329041 5.0848164 "
      ]
     },
     "metadata": {},
     "output_type": "display_data"
    }
   ],
   "source": [
    "#The first way to do this is to determine the 2.5% and 97.5% quantiles:\n",
    "quantile(meanDiffs_Algeria, c(0.025, 0.975))"
   ]
  },
  {
   "cell_type": "markdown",
   "metadata": {},
   "source": [
    "The second way to calculate the confidence interval is with the Welch Two Sample t-test, which is based on the \"Student's t-test,\" and further refined by 20th-century statistician Bernard Lewis Welch (1911-1989). Welch \"made the test more capable with different kinds of 'unruly' data (more specifically, situations where the two groups have different levels of variability).\" (Jeffrey M. Stanton, <em>Reasoning with Statistics</em>, 61-2)."
   ]
  },
  {
   "cell_type": "code",
   "execution_count": 19,
   "metadata": {},
   "outputs": [
    {
     "data": {
      "text/plain": [
       "\n",
       "\tWelch Two Sample t-test\n",
       "\n",
       "data:  OttomanGovData$Tenure[OttomanGovData$CapitalCode == 0] and OttomanGovData$Tenure[OttomanGovData$CapitalCode == 1]\n",
       "t = 2.5915, df = 57.766, p-value = 0.01208\n",
       "alternative hypothesis: true difference in means is not equal to 0\n",
       "95 percent confidence interval:\n",
       " 0.6315854 4.9202177\n",
       "sample estimates:\n",
       "mean of x mean of y \n",
       " 5.854333  3.078431 \n"
      ]
     },
     "metadata": {},
     "output_type": "display_data"
    }
   ],
   "source": [
    "t.test(OttomanGovData$Tenure[OttomanGovData$CapitalCode==0], OttomanGovData$Tenure[OttomanGovData$CapitalCode==1])"
   ]
  },
  {
   "cell_type": "markdown",
   "metadata": {},
   "source": [
    "#### Observations\n",
    "\n",
    "The t-test results present a 95% confidence interval of 0.63 to 4.92 years. This means that population mean difference of governors' tenures in Constantine and Algiers falls between these two values, which is to say that governors in Constantine generally served between 0.63 and 4.92 years longer than governors in Algiers. "
   ]
  },
  {
   "cell_type": "code",
   "execution_count": 21,
   "metadata": {},
   "outputs": [
    {
     "data": {
      "text/html": [
       "2.775"
      ],
      "text/latex": [
       "2.775"
      ],
      "text/markdown": [
       "2.775"
      ],
      "text/plain": [
       "[1] 2.775"
      ]
     },
     "metadata": {},
     "output_type": "display_data"
    },
    {
     "data": {
      "text/html": [
       "2.145"
      ],
      "text/latex": [
       "2.145"
      ],
      "text/markdown": [
       "2.145"
      ],
      "text/plain": [
       "[1] 2.145"
      ]
     },
     "metadata": {},
     "output_type": "display_data"
    }
   ],
   "source": [
    "#we can also run the following simple calculations to repor the results in a slightly different manner\n",
    "(0.63 + 4.92)/2\n",
    "4.92 - ((0.63+4.92)/2)"
   ]
  },
  {
   "cell_type": "markdown",
   "metadata": {},
   "source": [
    "The other way to report our findings is to say that governors in Constantine generally served about 2.78 years longer than those in Algiers, plus or minus 2.15 years."
   ]
  },
  {
   "cell_type": "markdown",
   "metadata": {},
   "source": [
    "### 9. Comparison between different groups\n",
    "\n",
    "In this final step, I'm going to compare the mean differences between Constantine and the other two Ottoman provincial capitals in predominately Arab regions, and just out of curiousity, I'll compare Cairo and Damascus, which <b>seem</b> to be far more similar than different, especially when considered alongside the governors based in the two Algerian capitals. "
   ]
  },
  {
   "cell_type": "code",
   "execution_count": 22,
   "metadata": {},
   "outputs": [
    {
     "data": {
      "text/plain": [
       "\n",
       "\tWelch Two Sample t-test\n",
       "\n",
       "data:  OttomanGovData$Tenure[OttomanGovData$CapitalCode == 0] and OttomanGovData$Tenure[OttomanGovData$CapitalCode == 2]\n",
       "t = 4.3789, df = 46.158, p-value = 6.789e-05\n",
       "alternative hypothesis: true difference in means is not equal to 0\n",
       "95 percent confidence interval:\n",
       " 2.391305 6.459410\n",
       "sample estimates:\n",
       "mean of x mean of y \n",
       " 5.854333  1.428975 \n"
      ]
     },
     "metadata": {},
     "output_type": "display_data"
    }
   ],
   "source": [
    "#Comparing Constantine with Damascus\n",
    "t.test(OttomanGovData$Tenure[OttomanGovData$CapitalCode==0], OttomanGovData$Tenure[OttomanGovData$CapitalCode==2])"
   ]
  },
  {
   "cell_type": "markdown",
   "metadata": {},
   "source": [
    "#### Observations\n",
    "\n",
    "The t-test results present a 95% confidence interval of 2.39 to 6.46 years. This means that population mean difference of governors' tenures in Constantine and Damascus falls between these two values, which is to say that governors in Constantine generally served between 2.39 and 6.46 years longer (<b>signficantly longer!</b>) than governors in Damascus."
   ]
  },
  {
   "cell_type": "code",
   "execution_count": 24,
   "metadata": {},
   "outputs": [
    {
     "data": {
      "text/plain": [
       "\n",
       "\tWelch Two Sample t-test\n",
       "\n",
       "data:  OttomanGovData$Tenure[OttomanGovData$CapitalCode == 0] and OttomanGovData$Tenure[OttomanGovData$CapitalCode == 3]\n",
       "t = 3.7399, df = 51.995, p-value = 0.0004601\n",
       "alternative hypothesis: true difference in means is not equal to 0\n",
       "95 percent confidence interval:\n",
       " 1.805249 5.985253\n",
       "sample estimates:\n",
       "mean of x mean of y \n",
       " 5.854333  1.959082 \n"
      ]
     },
     "metadata": {},
     "output_type": "display_data"
    }
   ],
   "source": [
    "#Comparing Constantine with Cairo\n",
    "t.test(OttomanGovData$Tenure[OttomanGovData$CapitalCode==0], OttomanGovData$Tenure[OttomanGovData$CapitalCode==3])"
   ]
  },
  {
   "cell_type": "markdown",
   "metadata": {},
   "source": [
    "#### Observations\n",
    "\n",
    "The t-test results present a 95% confidence interval of 1.81 to 5.99 years. This means that population mean difference of governors' tenures in Constantine and Cairo falls between these two values, which is to say that governors in Constantine generally served between 1.81 and 5.99 years longer than governors in Cairo. "
   ]
  },
  {
   "cell_type": "code",
   "execution_count": 25,
   "metadata": {},
   "outputs": [
    {
     "data": {
      "text/plain": [
       "\n",
       "\tWelch Two Sample t-test\n",
       "\n",
       "data:  OttomanGovData$Tenure[OttomanGovData$CapitalCode == 2] and OttomanGovData$Tenure[OttomanGovData$CapitalCode == 3]\n",
       "t = -1.774, df = 222.5, p-value = 0.07744\n",
       "alternative hypothesis: true difference in means is not equal to 0\n",
       "95 percent confidence interval:\n",
       " -1.11899639  0.05878353\n",
       "sample estimates:\n",
       "mean of x mean of y \n",
       " 1.428975  1.959082 \n"
      ]
     },
     "metadata": {},
     "output_type": "display_data"
    }
   ],
   "source": [
    "#Comparing Damascus with Cairo\n",
    "t.test(OttomanGovData$Tenure[OttomanGovData$CapitalCode==2], OttomanGovData$Tenure[OttomanGovData$CapitalCode==3])"
   ]
  },
  {
   "cell_type": "markdown",
   "metadata": {},
   "source": [
    "#### Observations\n",
    "\n",
    "Finally, the t-test results present a 95% confidence interval of -1.12 to 0.06 years. This means that population mean difference of governors' tenures in Damascus and Cairo falls between these two values, which is to say that governors in Damascus generally served between 1.12 years less and 0.06 years more than governors in Cairo, a rather insignificant difference, especially when compared with the mean difference confidence intervals for Constantine and the rest of the provincial capitals. "
   ]
  },
  {
   "cell_type": "markdown",
   "metadata": {},
   "source": [
    "### (Optional reading) Additional Historical Background\n",
    "\n",
    "Between the sixteenth and seventeenth centuries, transformations in the Ottoman Empire’s provincial administration ultimately encouraged far-flung Ottoman officials to establish roots in their assigned frontier region. In response to the evolution of European military tactics, Sultan Murad III (r. 1574-1595) diminished the number of cavalrymen and increased the number of imperial household troops. This shift narrowed the avenues from provincial leadership positions to higher office in the metropole. Ottoman historian İ. Metin Kunt reports that “from the 1570s to the 1580s, the ratio of new sancakbeyi [district commanders] from provincial administration ranks fell from two-thirds to half of all new appointees, while the share of those from central administration rose to 44.6 percent.”  Administrators who were stationed in the provinces were less likely to be called back to the imperial center or reassigned to a different province. \n",
    "\n",
    "The data on Constantine’s early governors reflects this change.  After their terms ended, the first two Ottoman governors of Algeria’s eastern district received new appointments to different provinces. Thereafter, most Ottoman officials who traveled to the frontier outpost of Algeria remained there. An imperial official’s best opportunities, then, lay in the distant province to which he had been assigned. The surest method to climb the administrative ladder in Algeria proved to be through real and fictive kinship networks and household connections. From Mohammed Pasha’s installation of Constantine’s first governor in 1567, beys served longer than their allotted three-year term. Interrupted only by governors’ deaths, this practice continued until the French conquest of the provincial capital in 1837. Across the Ottoman Empire, this was highly unusual; only four to six percent of beys in other provinces served longer than the standard three-year term.\n",
    "\n",
    "After Sultan Murad III signed a truce with Habsburg Emperor Philip II in 1580, Algeria became increasingly marginalized within the Ottoman Empire.  As a result, the janissaries sent to the frontier region stayed for the duration of their service. Through their long sojourn, the janissaries grew even more powerful. Beginning in the seventeenth century, the internal governing council, or council, consisting of corsair leaders and janissary officers, became one of the primary training grounds for men who were promoted to serve as dey in Algiers and governors in the western and eastern territories.  Enrollment, voluntarily or not, into the janissary corps provided young men with the opportunity to cultivate patronage relationships, foster support among their peers, and gain valuable leadership experience. All three proved essential factors in the success of Ottoman officials when they reached the upper echelons of the military-administrative ranks, but they were not sufficient conditions to ensure a governor’s success in the province of Constantine, as their fates reveal.\n"
   ]
  },
  {
   "cell_type": "code",
   "execution_count": null,
   "metadata": {},
   "outputs": [],
   "source": []
  }
 ],
 "metadata": {
  "kernelspec": {
   "display_name": "R",
   "language": "R",
   "name": "ir"
  },
  "language_info": {
   "codemirror_mode": "r",
   "file_extension": ".r",
   "mimetype": "text/x-r-source",
   "name": "R",
   "pygments_lexer": "r",
   "version": "4.0.3"
  }
 },
 "nbformat": 4,
 "nbformat_minor": 4
}
