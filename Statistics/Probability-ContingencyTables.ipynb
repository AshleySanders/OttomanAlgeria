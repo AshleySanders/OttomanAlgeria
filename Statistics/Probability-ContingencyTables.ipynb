{
 "cells": [
  {
   "cell_type": "markdown",
   "metadata": {},
   "source": [
    "In this lesson, we'll examine how to use <b>contingency tables</b> and concepts from probability to explore the governors' data in new ways. First, some vocabulary:\n",
    "\n",
    "<ul>\n",
    "    <li><b>Outcome table:</b> lists the various possible outcomes of a set of similar or related events.</li>\n",
    "    <li><b>Binomial:</b> meaning \"two names,\" binomial data has just two possible outcomes.</li>\n",
    "    <li><b>Binomial distribution:</b> a model of the possibilities across multiple trials. </li>\n",
    "    <li><b>Trial:</b> a group of events that test the probability of the occurrence of certain events</li>\n",
    "    <li><b>Contingency table:</b> a tool for asking 'what if' questions about a more complex, linked set of outcomes. They must have at least four cells. Each cell lies at the intersection of exactly one row and one column and represents the number of times (or the percentage) that the events described in the corresponding row and column occur.</li>\n",
    "    </ul>\n"
   ]
  },
  {
   "cell_type": "code",
   "execution_count": 1,
   "metadata": {},
   "outputs": [
    {
     "data": {
      "text/html": [
       "<table class=\"dataframe\">\n",
       "<caption>A data.frame: 5 × 6</caption>\n",
       "<thead>\n",
       "\t<tr><th></th><th scope=col>Transliterated.Name</th><th scope=col>Start.Date</th><th scope=col>End.Date</th><th scope=col>Tenure..Years.</th><th scope=col>Fate</th><th scope=col>Ethnicity</th></tr>\n",
       "\t<tr><th></th><th scope=col>&lt;chr&gt;</th><th scope=col>&lt;int&gt;</th><th scope=col>&lt;int&gt;</th><th scope=col>&lt;dbl&gt;</th><th scope=col>&lt;chr&gt;</th><th scope=col>&lt;chr&gt;</th></tr>\n",
       "</thead>\n",
       "<tbody>\n",
       "\t<tr><th scope=row>1</th><td>RamdÄn-TshÅ«laq BÄy      </td><td>1567</td><td>1574</td><td> 7</td><td>Non-Violent Fate</td><td>Ottoman </td></tr>\n",
       "\t<tr><th scope=row>2</th><td>JÊ¿far BÄy                </td><td>1574</td><td>1588</td><td>14</td><td>Non-Violent Fate</td><td>Ottoman </td></tr>\n",
       "\t<tr><th scope=row>3</th><td>Muhammad Ben Ferá¸¥Ät BÄy</td><td>1588</td><td>1608</td><td>20</td><td>Killed in battle</td><td>Algerian</td></tr>\n",
       "\t<tr><th scope=row>4</th><td>á¸¤asan BÄy               </td><td>1608</td><td>1622</td><td>14</td><td>Non-Violent Fate</td><td>Ottoman </td></tr>\n",
       "\t<tr><th scope=row>5</th><td>MurÄd BÄy                </td><td>1622</td><td>1647</td><td>25</td><td>Killed in battle</td><td>Ottoman </td></tr>\n",
       "</tbody>\n",
       "</table>\n"
      ],
      "text/latex": [
       "A data.frame: 5 × 6\n",
       "\\begin{tabular}{r|llllll}\n",
       "  & Transliterated.Name & Start.Date & End.Date & Tenure..Years. & Fate & Ethnicity\\\\\n",
       "  & <chr> & <int> & <int> & <dbl> & <chr> & <chr>\\\\\n",
       "\\hline\n",
       "\t1 & RamdÄn-TshÅ«laq BÄy       & 1567 & 1574 &  7 & Non-Violent Fate & Ottoman \\\\\n",
       "\t2 & JÊ¿far BÄy                 & 1574 & 1588 & 14 & Non-Violent Fate & Ottoman \\\\\n",
       "\t3 & Muhammad Ben Ferá¸¥Ät BÄy & 1588 & 1608 & 20 & Killed in battle & Algerian\\\\\n",
       "\t4 & á¸¤asan BÄy                & 1608 & 1622 & 14 & Non-Violent Fate & Ottoman \\\\\n",
       "\t5 & MurÄd BÄy                 & 1622 & 1647 & 25 & Killed in battle & Ottoman \\\\\n",
       "\\end{tabular}\n"
      ],
      "text/markdown": [
       "\n",
       "A data.frame: 5 × 6\n",
       "\n",
       "| <!--/--> | Transliterated.Name &lt;chr&gt; | Start.Date &lt;int&gt; | End.Date &lt;int&gt; | Tenure..Years. &lt;dbl&gt; | Fate &lt;chr&gt; | Ethnicity &lt;chr&gt; |\n",
       "|---|---|---|---|---|---|---|\n",
       "| 1 | RamdÄn-TshÅ«laq BÄy       | 1567 | 1574 |  7 | Non-Violent Fate | Ottoman  |\n",
       "| 2 | JÊ¿far BÄy                 | 1574 | 1588 | 14 | Non-Violent Fate | Ottoman  |\n",
       "| 3 | Muhammad Ben Ferá¸¥Ät BÄy | 1588 | 1608 | 20 | Killed in battle | Algerian |\n",
       "| 4 | á¸¤asan BÄy                | 1608 | 1622 | 14 | Non-Violent Fate | Ottoman  |\n",
       "| 5 | MurÄd BÄy                 | 1622 | 1647 | 25 | Killed in battle | Ottoman  |\n",
       "\n"
      ],
      "text/plain": [
       "  Transliterated.Name         Start.Date End.Date Tenure..Years.\n",
       "1 RamdÄ\\201n-TshÅ«laq BÄ\\201y       1567       1574      7            \n",
       "2 JÊ¿far BÄ\\201y                 1574       1588     14            \n",
       "3 Muhammad Ben Ferá¸¥Ä\\201t BÄ\\201y 1588       1608     20            \n",
       "4 á¸¤asan BÄ\\201y                1608       1622     14            \n",
       "5 MurÄ\\201d BÄ\\201y                 1622       1647     25            \n",
       "  Fate             Ethnicity\n",
       "1 Non-Violent Fate Ottoman  \n",
       "2 Non-Violent Fate Ottoman  \n",
       "3 Killed in battle Algerian \n",
       "4 Non-Violent Fate Ottoman  \n",
       "5 Killed in battle Ottoman  "
      ]
     },
     "metadata": {},
     "output_type": "display_data"
    }
   ],
   "source": [
    "#As always, we must begin by first reading the dataset into R.\n",
    "GovData.SimplifiedFates <- read.csv(\"C:/Users/ASG/Dropbox/Scholarship/AhmedBey/Data/GovernorsData-Git/GovData/GovData-SimplifiedFates.csv\")\n",
    "\n",
    "#If you'd like to preview the data, uncomment the following line of code.\n",
    "head(GovData.SimplifiedFates, 5)"
   ]
  },
  {
   "cell_type": "code",
   "execution_count": 5,
   "metadata": {},
   "outputs": [
    {
     "name": "stderr",
     "output_type": "stream",
     "text": [
      "Installing package into 'C:/Users/ASG/Documents/R/win-library/4.0'\n",
      "(as 'lib' is unspecified)\n",
      "\n",
      "also installing the dependencies 'pkgconfig', 'purrr', 'generics', 'magrittr', 'R6', 'tibble', 'tidyselect'\n",
      "\n",
      "\n"
     ]
    },
    {
     "name": "stdout",
     "output_type": "stream",
     "text": [
      "package 'pkgconfig' successfully unpacked and MD5 sums checked\n",
      "package 'purrr' successfully unpacked and MD5 sums checked\n",
      "package 'generics' successfully unpacked and MD5 sums checked\n",
      "package 'magrittr' successfully unpacked and MD5 sums checked\n",
      "package 'R6' successfully unpacked and MD5 sums checked\n",
      "package 'tibble' successfully unpacked and MD5 sums checked\n",
      "package 'tidyselect' successfully unpacked and MD5 sums checked\n",
      "package 'dplyr' successfully unpacked and MD5 sums checked\n",
      "\n",
      "The downloaded binary packages are in\n",
      "\tC:\\Users\\ASG\\AppData\\Local\\Temp\\RtmpSMcxgv\\downloaded_packages\n"
     ]
    },
    {
     "name": "stderr",
     "output_type": "stream",
     "text": [
      "\n",
      "Attaching package: 'dplyr'\n",
      "\n",
      "\n",
      "The following objects are masked from 'package:stats':\n",
      "\n",
      "    filter, lag\n",
      "\n",
      "\n",
      "The following objects are masked from 'package:base':\n",
      "\n",
      "    intersect, setdiff, setequal, union\n",
      "\n",
      "\n"
     ]
    }
   ],
   "source": [
    "#Install (if necessary) and load packages we will need for this lesson\n",
    "#Sinstall.packages(\"dplyr\")\n",
    "library(dplyr)"
   ]
  },
  {
   "cell_type": "code",
   "execution_count": 6,
   "metadata": {},
   "outputs": [
    {
     "data": {
      "text/html": [
       "<table class=\"dataframe\">\n",
       "<caption>A tibble: 5 × 6</caption>\n",
       "<thead>\n",
       "\t<tr><th scope=col>Transliterated.Name</th><th scope=col>Start.Date</th><th scope=col>End.Date</th><th scope=col>Tenure..Years.</th><th scope=col>Fate</th><th scope=col>Ethnicity</th></tr>\n",
       "\t<tr><th scope=col>&lt;chr&gt;</th><th scope=col>&lt;int&gt;</th><th scope=col>&lt;int&gt;</th><th scope=col>&lt;dbl&gt;</th><th scope=col>&lt;chr&gt;</th><th scope=col>&lt;chr&gt;</th></tr>\n",
       "</thead>\n",
       "<tbody>\n",
       "\t<tr><td>RamdÄn-TshÅ«laq BÄy      </td><td>1567</td><td>1574</td><td> 7</td><td>Non-Violent Fate</td><td>Ottoman </td></tr>\n",
       "\t<tr><td>JÊ¿far BÄy                </td><td>1574</td><td>1588</td><td>14</td><td>Non-Violent Fate</td><td>Ottoman </td></tr>\n",
       "\t<tr><td>Muhammad Ben Ferá¸¥Ät BÄy</td><td>1588</td><td>1608</td><td>20</td><td>Killed in battle</td><td>Algerian</td></tr>\n",
       "\t<tr><td>á¸¤asan BÄy               </td><td>1608</td><td>1622</td><td>14</td><td>Non-Violent Fate</td><td>Ottoman </td></tr>\n",
       "\t<tr><td>MurÄd BÄy                </td><td>1622</td><td>1647</td><td>25</td><td>Killed in battle</td><td>Ottoman </td></tr>\n",
       "</tbody>\n",
       "</table>\n"
      ],
      "text/latex": [
       "A tibble: 5 × 6\n",
       "\\begin{tabular}{llllll}\n",
       " Transliterated.Name & Start.Date & End.Date & Tenure..Years. & Fate & Ethnicity\\\\\n",
       " <chr> & <int> & <int> & <dbl> & <chr> & <chr>\\\\\n",
       "\\hline\n",
       "\t RamdÄn-TshÅ«laq BÄy       & 1567 & 1574 &  7 & Non-Violent Fate & Ottoman \\\\\n",
       "\t JÊ¿far BÄy                 & 1574 & 1588 & 14 & Non-Violent Fate & Ottoman \\\\\n",
       "\t Muhammad Ben Ferá¸¥Ät BÄy & 1588 & 1608 & 20 & Killed in battle & Algerian\\\\\n",
       "\t á¸¤asan BÄy                & 1608 & 1622 & 14 & Non-Violent Fate & Ottoman \\\\\n",
       "\t MurÄd BÄy                 & 1622 & 1647 & 25 & Killed in battle & Ottoman \\\\\n",
       "\\end{tabular}\n"
      ],
      "text/markdown": [
       "\n",
       "A tibble: 5 × 6\n",
       "\n",
       "| Transliterated.Name &lt;chr&gt; | Start.Date &lt;int&gt; | End.Date &lt;int&gt; | Tenure..Years. &lt;dbl&gt; | Fate &lt;chr&gt; | Ethnicity &lt;chr&gt; |\n",
       "|---|---|---|---|---|---|\n",
       "| RamdÄn-TshÅ«laq BÄy       | 1567 | 1574 |  7 | Non-Violent Fate | Ottoman  |\n",
       "| JÊ¿far BÄy                 | 1574 | 1588 | 14 | Non-Violent Fate | Ottoman  |\n",
       "| Muhammad Ben Ferá¸¥Ät BÄy | 1588 | 1608 | 20 | Killed in battle | Algerian |\n",
       "| á¸¤asan BÄy                | 1608 | 1622 | 14 | Non-Violent Fate | Ottoman  |\n",
       "| MurÄd BÄy                 | 1622 | 1647 | 25 | Killed in battle | Ottoman  |\n",
       "\n"
      ],
      "text/plain": [
       "  Transliterated.Name         Start.Date End.Date Tenure..Years.\n",
       "1 RamdÄ\\201n-TshÅ«laq BÄ\\201y       1567       1574      7            \n",
       "2 JÊ¿far BÄ\\201y                 1574       1588     14            \n",
       "3 Muhammad Ben Ferá¸¥Ä\\201t BÄ\\201y 1588       1608     20            \n",
       "4 á¸¤asan BÄ\\201y                1608       1622     14            \n",
       "5 MurÄ\\201d BÄ\\201y                 1622       1647     25            \n",
       "  Fate             Ethnicity\n",
       "1 Non-Violent Fate Ottoman  \n",
       "2 Non-Violent Fate Ottoman  \n",
       "3 Killed in battle Algerian \n",
       "4 Non-Violent Fate Ottoman  \n",
       "5 Killed in battle Ottoman  "
      ]
     },
     "metadata": {},
     "output_type": "display_data"
    }
   ],
   "source": [
    "#save the data in a dataframe\n",
    "fates <- as_tibble(data.frame(GovData.SimplifiedFates))\n",
    "\n",
    "#preview data frame\n",
    "head(fates, 5)"
   ]
  },
  {
   "cell_type": "markdown",
   "metadata": {},
   "source": [
    "## Outcome Tables\n",
    "\n",
    "Let's begin by looking at outcome tables for two of our nominal variables: fate and ethnicity.\n"
   ]
  },
  {
   "cell_type": "code",
   "execution_count": 7,
   "metadata": {},
   "outputs": [
    {
     "data": {
      "text/plain": [
       "\n",
       "Algerian European Kulughlu  Ottoman  Unknown \n",
       "       3        3        6       31        3 "
      ]
     },
     "metadata": {},
     "output_type": "display_data"
    }
   ],
   "source": [
    "#Outcome table for governors' ethnicity by raw count (the number of governors of each ethnicity)\n",
    "\n",
    "table(fates$Ethnicity)"
   ]
  },
  {
   "cell_type": "code",
   "execution_count": 8,
   "metadata": {},
   "outputs": [
    {
     "data": {
      "text/plain": [
       "\n",
       "  Algerian   European   Kulughlu    Ottoman    Unknown \n",
       "0.06521739 0.06521739 0.13043478 0.67391304 0.06521739 "
      ]
     },
     "metadata": {},
     "output_type": "display_data"
    }
   ],
   "source": [
    "#Outcome table for governors' ethnicity by percentage\n",
    "prop.table(table(fates$Ethnicity))"
   ]
  },
  {
   "cell_type": "code",
   "execution_count": 9,
   "metadata": {},
   "outputs": [
    {
     "data": {
      "text/plain": [
       "\n",
       "       Killed in battle        Non-Violent Fate                 Unknown \n",
       "                      4                      18                       4 \n",
       "Willful Violent Removal \n",
       "                     20 "
      ]
     },
     "metadata": {},
     "output_type": "display_data"
    }
   ],
   "source": [
    "#Outcome table for governors' fates by raw count (the number of governors who met each fate)\n",
    "\n",
    "table(fates$Fate)"
   ]
  },
  {
   "cell_type": "code",
   "execution_count": 10,
   "metadata": {},
   "outputs": [
    {
     "data": {
      "text/plain": [
       "\n",
       "       Killed in battle        Non-Violent Fate                 Unknown \n",
       "             0.08695652              0.39130435              0.08695652 \n",
       "Willful Violent Removal \n",
       "             0.43478261 "
      ]
     },
     "metadata": {},
     "output_type": "display_data"
    }
   ],
   "source": [
    "#Outcome table for governors' fates by percentage\n",
    "prop.table(table(fates$Fate))"
   ]
  },
  {
   "cell_type": "markdown",
   "metadata": {},
   "source": [
    "## Contingency Tables\n",
    "\n",
    "The outcome tables give us a quick summary of single variables, but it is often far more interesting to see two variables in relation to one another. Contingency tables are perfectly suited to this task. The contingency table of governors' ethnicities and fates will tell us how many governors of each ethnicity met which fate. "
   ]
  },
  {
   "cell_type": "code",
   "execution_count": 17,
   "metadata": {},
   "outputs": [
    {
     "data": {
      "text/plain": [
       "          \n",
       "           Killed in battle Non-Violent Fate Unknown Willful Violent Removal\n",
       "  Algerian                1                0       2                       0\n",
       "  European                0                1       0                       2\n",
       "  Kulughlu                1                0       1                       4\n",
       "  Ottoman                 2               15       0                      14\n",
       "  Unknown                 0                2       1                       0"
      ]
     },
     "metadata": {},
     "output_type": "display_data"
    }
   ],
   "source": [
    "conTable <- table(fates$Ethnicity, fates$Fate)\n",
    "conTable"
   ]
  },
  {
   "cell_type": "markdown",
   "metadata": {},
   "source": [
    "With the simple contingency table above, we can answer a number of questions:\n",
    "\n",
    "<ul>\n",
    "    <li>How many governors were killed in battle, enjoyed a non-violent fate, were removed violently or met an unknown fate?</li>\n",
    "    <li>Was it more likely for governors to meet a violent or non-violent end?</li>\n",
    "    <li>What was the likely ethnicity and fate of a governor of Constantine chosen at random?</li>\n",
    "    <li>Did a governor's ethnicity make a difference in his likely fate?</li>\n",
    "</ul>\n",
    "\n",
    "This list of questions is not exhaustive, but we will begin to answer these and other questions as we add some useful information to this table and execute several transformations."
   ]
  },
  {
   "cell_type": "code",
   "execution_count": 18,
   "metadata": {},
   "outputs": [
    {
     "data": {
      "text/html": [
       "<style>\n",
       ".dl-inline {width: auto; margin:0; padding: 0}\n",
       ".dl-inline>dt, .dl-inline>dd {float: none; width: auto; display: inline-block}\n",
       ".dl-inline>dt::after {content: \":\\0020\"; padding-right: .5ex}\n",
       ".dl-inline>dt:not(:first-of-type) {padding-left: .5ex}\n",
       "</style><dl class=dl-inline><dt>Algerian</dt><dd>3</dd><dt>European</dt><dd>3</dd><dt>Kulughlu</dt><dd>6</dd><dt>Ottoman</dt><dd>31</dd><dt>Unknown</dt><dd>3</dd></dl>\n"
      ],
      "text/latex": [
       "\\begin{description*}\n",
       "\\item[Algerian] 3\n",
       "\\item[European] 3\n",
       "\\item[Kulughlu] 6\n",
       "\\item[Ottoman] 31\n",
       "\\item[Unknown] 3\n",
       "\\end{description*}\n"
      ],
      "text/markdown": [
       "Algerian\n",
       ":   3European\n",
       ":   3Kulughlu\n",
       ":   6Ottoman\n",
       ":   31Unknown\n",
       ":   3\n",
       "\n"
      ],
      "text/plain": [
       "Algerian European Kulughlu  Ottoman  Unknown \n",
       "       3        3        6       31        3 "
      ]
     },
     "metadata": {},
     "output_type": "display_data"
    }
   ],
   "source": [
    "#To make answering some of the questions above easier, let's calculate the row and column totals, or marginal totals\n",
    "\n",
    "rowSums(conTable)"
   ]
  },
  {
   "cell_type": "code",
   "execution_count": 19,
   "metadata": {},
   "outputs": [
    {
     "data": {
      "text/html": [
       "<style>\n",
       ".dl-inline {width: auto; margin:0; padding: 0}\n",
       ".dl-inline>dt, .dl-inline>dd {float: none; width: auto; display: inline-block}\n",
       ".dl-inline>dt::after {content: \":\\0020\"; padding-right: .5ex}\n",
       ".dl-inline>dt:not(:first-of-type) {padding-left: .5ex}\n",
       "</style><dl class=dl-inline><dt>Killed in battle</dt><dd>4</dd><dt>Non-Violent Fate</dt><dd>18</dd><dt>Unknown</dt><dd>4</dd><dt>Willful Violent Removal</dt><dd>20</dd></dl>\n"
      ],
      "text/latex": [
       "\\begin{description*}\n",
       "\\item[Killed in battle] 4\n",
       "\\item[Non-Violent Fate] 18\n",
       "\\item[Unknown] 4\n",
       "\\item[Willful Violent Removal] 20\n",
       "\\end{description*}\n"
      ],
      "text/markdown": [
       "Killed in battle\n",
       ":   4Non-Violent Fate\n",
       ":   18Unknown\n",
       ":   4Willful Violent Removal\n",
       ":   20\n",
       "\n"
      ],
      "text/plain": [
       "       Killed in battle        Non-Violent Fate                 Unknown \n",
       "                      4                      18                       4 \n",
       "Willful Violent Removal \n",
       "                     20 "
      ]
     },
     "metadata": {},
     "output_type": "display_data"
    }
   ],
   "source": [
    "colSums(conTable)"
   ]
  },
  {
   "cell_type": "code",
   "execution_count": 22,
   "metadata": {},
   "outputs": [
    {
     "data": {
      "text/html": [
       "46"
      ],
      "text/latex": [
       "46"
      ],
      "text/markdown": [
       "46"
      ],
      "text/plain": [
       "[1] 46"
      ]
     },
     "metadata": {},
     "output_type": "display_data"
    },
    {
     "data": {
      "text/plain": [
       "\n",
       "Algerian European Kulughlu  Ottoman  Unknown \n",
       "       3        3        6       31        3 "
      ]
     },
     "metadata": {},
     "output_type": "display_data"
    },
    {
     "data": {
      "text/plain": [
       "\n",
       "       Killed in battle        Non-Violent Fate                 Unknown \n",
       "                      4                      18                       4 \n",
       "Willful Violent Removal \n",
       "                     20 "
      ]
     },
     "metadata": {},
     "output_type": "display_data"
    }
   ],
   "source": [
    "#Here's another way to calculate the marginal totals\n",
    "margin.table(conTable) #Total number of governors\n",
    "margin.table(conTable,1) #Marginal totals for rows\n",
    "margin.table(conTable,2) #Marginal totals for columns"
   ]
  },
  {
   "cell_type": "code",
   "execution_count": 23,
   "metadata": {},
   "outputs": [
    {
     "data": {
      "text/plain": [
       "          \n",
       "           Killed in battle Non-Violent Fate    Unknown Willful Violent Removal\n",
       "  Algerian       0.02173913       0.00000000 0.04347826              0.00000000\n",
       "  European       0.00000000       0.02173913 0.00000000              0.04347826\n",
       "  Kulughlu       0.02173913       0.00000000 0.02173913              0.08695652\n",
       "  Ottoman        0.04347826       0.32608696 0.00000000              0.30434783\n",
       "  Unknown        0.00000000       0.04347826 0.02173913              0.00000000"
      ]
     },
     "metadata": {},
     "output_type": "display_data"
    }
   ],
   "source": [
    "fateProbs <- conTable/margin.table(conTable) #Calculate the probabilities\n",
    "fateProbs #view table of probabilities"
   ]
  },
  {
   "cell_type": "code",
   "execution_count": 12,
   "metadata": {},
   "outputs": [
    {
     "data": {
      "text/plain": [
       "          \n",
       "           Killed in battle Non-Violent Fate    Unknown Willful Violent Removal\n",
       "  Algerian       0.02173913       0.00000000 0.04347826              0.00000000\n",
       "  European       0.00000000       0.02173913 0.00000000              0.04347826\n",
       "  Kulughlu       0.02173913       0.00000000 0.02173913              0.08695652\n",
       "  Ottoman        0.04347826       0.32608696 0.00000000              0.30434783\n",
       "  Unknown        0.00000000       0.04347826 0.02173913              0.00000000"
      ]
     },
     "metadata": {},
     "output_type": "display_data"
    }
   ],
   "source": [
    "# Another way to create the above table of probabilities is to use prop.table\n",
    "\n",
    "prop_conTable <- prop.table(table(fates$Ethnicity, fates$Fate))\n",
    "prop_conTable"
   ]
  },
  {
   "cell_type": "code",
   "execution_count": 13,
   "metadata": {},
   "outputs": [
    {
     "data": {
      "text/plain": [
       "          \n",
       "           Killed in battle Non-Violent Fate   Unknown Willful Violent Removal\n",
       "  Algerian         2.173913         0.000000  4.347826                0.000000\n",
       "  European         0.000000         2.173913  0.000000                4.347826\n",
       "  Kulughlu         2.173913         0.000000  2.173913                8.695652\n",
       "  Ottoman          4.347826        32.608696  0.000000               30.434783\n",
       "  Unknown          0.000000         4.347826  2.173913                0.000000"
      ]
     },
     "metadata": {},
     "output_type": "display_data"
    }
   ],
   "source": [
    "# You can also convert the above decimal format to percentages by multiplying by 100\n",
    "\n",
    "prop_conTable <- prop.table(table(fates$Ethnicity, fates$Fate))*100\n",
    "prop_conTable"
   ]
  },
  {
   "cell_type": "markdown",
   "metadata": {},
   "source": [
    "The above table is a <b>joint probability table</b>, which we can identify by noticing that each row and each column does not sum to 100 percent. Joint probability is the probability that two events co-occur, or happen together. Visually, joint probabilities are depicted as the area of intersection between two circles in a Venn Diagram:\n",
    "\n",
    "![alt text](https://www.statisticshowto.com/wp-content/uploads/2013/12/venn-diagram-intersection.jpg \"A Venn diagram intersection shows the intersection of events A and B happening together\")\n",
    "Image from: Stephanie Glen, <a href = \"https://www.statisticshowto.com/joint-probability-distribution/\">\"Joint Probability and Joint Distributions: Definition, Examples\"</a>, <a href = \"https://www.statisticshowto.com/\">StatisticsHowTo.com: Elementary Statistics for the rest of us!</a> (Accessed 25 January 2021).\n",
    "\n",
    "Therefore, according to the table above, the joint probability that governor was both Algerian and killed in battle, for example, is 2.17%."
   ]
  },
  {
   "cell_type": "code",
   "execution_count": null,
   "metadata": {},
   "outputs": [],
   "source": []
  }
 ],
 "metadata": {
  "kernelspec": {
   "display_name": "R",
   "language": "R",
   "name": "ir"
  },
  "language_info": {
   "codemirror_mode": "r",
   "file_extension": ".r",
   "mimetype": "text/x-r-source",
   "name": "R",
   "pygments_lexer": "r",
   "version": "4.0.3"
  }
 },
 "nbformat": 4,
 "nbformat_minor": 4
}
