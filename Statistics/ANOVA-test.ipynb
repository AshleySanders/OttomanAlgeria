{
 "cells": [
  {
   "cell_type": "markdown",
   "metadata": {},
   "source": [
    "## ANOVA Test with real research data"
   ]
  },
  {
   "cell_type": "markdown",
   "metadata": {},
   "source": [
    "## Diagnostic Checking\n",
    "\n",
    "\n",
    "### Assumptions to satisfy to generate reliable ANOVA test results\n",
    "\n",
    "<ol>\n",
    "    <li><b>Independence:</b> The samples making up the k groups must be independent of one another, and the observations in each group must be independent and identically distributed (iid).</li>\n",
    "    <li><b>Normality:</b> The observations in each group should be normally distributed, or at least approximately so.</li>\n",
    "    <li><b>Equality of variances:</b> The variance of the observations in each group should be equal, or at least approximately so.</li>\n",
    "</ol>"
   ]
  },
  {
   "cell_type": "code",
   "execution_count": 12,
   "metadata": {
    "scrolled": true
   },
   "outputs": [
    {
     "data": {
      "text/html": [
       "<table class=\"dataframe\">\n",
       "<caption>A data.frame: 6 × 3</caption>\n",
       "<thead>\n",
       "\t<tr><th></th><th scope=col>Tenure</th><th scope=col>CapitalCity</th><th scope=col>Country</th></tr>\n",
       "\t<tr><th></th><th scope=col>&lt;dbl&gt;</th><th scope=col>&lt;chr&gt;</th><th scope=col>&lt;chr&gt;</th></tr>\n",
       "</thead>\n",
       "<tbody>\n",
       "\t<tr><th scope=row>1</th><td> 7</td><td>Constantine</td><td>Algeria</td></tr>\n",
       "\t<tr><th scope=row>2</th><td>14</td><td>Constantine</td><td>Algeria</td></tr>\n",
       "\t<tr><th scope=row>3</th><td>20</td><td>Constantine</td><td>Algeria</td></tr>\n",
       "\t<tr><th scope=row>4</th><td>14</td><td>Constantine</td><td>Algeria</td></tr>\n",
       "\t<tr><th scope=row>5</th><td>25</td><td>Constantine</td><td>Algeria</td></tr>\n",
       "\t<tr><th scope=row>6</th><td> 6</td><td>Constantine</td><td>Algeria</td></tr>\n",
       "</tbody>\n",
       "</table>\n"
      ],
      "text/latex": [
       "A data.frame: 6 × 3\n",
       "\\begin{tabular}{r|lll}\n",
       "  & Tenure & CapitalCity & Country\\\\\n",
       "  & <dbl> & <chr> & <chr>\\\\\n",
       "\\hline\n",
       "\t1 &  7 & Constantine & Algeria\\\\\n",
       "\t2 & 14 & Constantine & Algeria\\\\\n",
       "\t3 & 20 & Constantine & Algeria\\\\\n",
       "\t4 & 14 & Constantine & Algeria\\\\\n",
       "\t5 & 25 & Constantine & Algeria\\\\\n",
       "\t6 &  6 & Constantine & Algeria\\\\\n",
       "\\end{tabular}\n"
      ],
      "text/markdown": [
       "\n",
       "A data.frame: 6 × 3\n",
       "\n",
       "| <!--/--> | Tenure &lt;dbl&gt; | CapitalCity &lt;chr&gt; | Country &lt;chr&gt; |\n",
       "|---|---|---|---|\n",
       "| 1 |  7 | Constantine | Algeria |\n",
       "| 2 | 14 | Constantine | Algeria |\n",
       "| 3 | 20 | Constantine | Algeria |\n",
       "| 4 | 14 | Constantine | Algeria |\n",
       "| 5 | 25 | Constantine | Algeria |\n",
       "| 6 |  6 | Constantine | Algeria |\n",
       "\n"
      ],
      "text/plain": [
       "  Tenure CapitalCity Country\n",
       "1  7     Constantine Algeria\n",
       "2 14     Constantine Algeria\n",
       "3 20     Constantine Algeria\n",
       "4 14     Constantine Algeria\n",
       "5 25     Constantine Algeria\n",
       "6  6     Constantine Algeria"
      ]
     },
     "metadata": {},
     "output_type": "display_data"
    }
   ],
   "source": [
    "#Read in the data\n",
    "\n",
    "CompGov <- read.csv(\"C:/Users/ASG/Dropbox/Scholarship/AhmedBey/Comparative-GovData/CompGov.csv\")\n",
    "\n",
    "#Review the structure of the Ottoman Governors' Data set (OttomanGovData)\n",
    "head(CompGov)"
   ]
  },
  {
   "cell_type": "code",
   "execution_count": 14,
   "metadata": {
    "scrolled": true
   },
   "outputs": [
    {
     "data": {
      "text/plain": [
       "\n",
       "    Algiers       Cairo Constantine    Damascus \n",
       "        102         167          46         244 "
      ]
     },
     "metadata": {},
     "output_type": "display_data"
    }
   ],
   "source": [
    "# We're interested in comparing the mean tenure lengths by capital city to see whether they're all equal. \n",
    "# Use table() to summarize the four sample sizes. \n",
    "\n",
    "table(CompGov$CapitalCity)"
   ]
  },
  {
   "cell_type": "markdown",
   "metadata": {},
   "source": [
    "### Equality of variance test\n",
    "\n",
    "Assuming independence of the data, before implementing the test, you must first check that the other assumptions are valid. To examine the equality of variances, you can use the same informal rule of thumb as used in the two-sample t-test. That is, you can assume equality of variances if the ratio of the largest sample standard deviation to the smallest is less than 2."
   ]
  },
  {
   "cell_type": "code",
   "execution_count": 15,
   "metadata": {},
   "outputs": [
    {
     "data": {
      "text/html": [
       "<style>\n",
       ".dl-inline {width: auto; margin:0; padding: 0}\n",
       ".dl-inline>dt, .dl-inline>dd {float: none; width: auto; display: inline-block}\n",
       ".dl-inline>dt::after {content: \":\\0020\"; padding-right: .5ex}\n",
       ".dl-inline>dt:not(:first-of-type) {padding-left: .5ex}\n",
       "</style><dl class=dl-inline><dt>Algiers</dt><dd>3.76457241075765</dd><dt>Cairo</dt><dd>3.57166153019797</dd><dt>Constantine</dt><dd>6.81079710327629</dd><dt>Damascus</dt><dd>1.77474955498851</dd></dl>\n"
      ],
      "text/latex": [
       "\\begin{description*}\n",
       "\\item[Algiers] 3.76457241075765\n",
       "\\item[Cairo] 3.57166153019797\n",
       "\\item[Constantine] 6.81079710327629\n",
       "\\item[Damascus] 1.77474955498851\n",
       "\\end{description*}\n"
      ],
      "text/markdown": [
       "Algiers\n",
       ":   3.76457241075765Cairo\n",
       ":   3.57166153019797Constantine\n",
       ":   6.81079710327629Damascus\n",
       ":   1.77474955498851\n",
       "\n"
      ],
      "text/plain": [
       "    Algiers       Cairo Constantine    Damascus \n",
       "   3.764572    3.571662    6.810797    1.774750 "
      ]
     },
     "metadata": {},
     "output_type": "display_data"
    }
   ],
   "source": [
    "Comp.sds <- tapply(CompGov$Tenure, INDEX=CompGov$CapitalCity, FUN=sd)\n",
    "Comp.sds"
   ]
  },
  {
   "cell_type": "code",
   "execution_count": 16,
   "metadata": {},
   "outputs": [
    {
     "data": {
      "text/html": [
       "3.83761026119562"
      ],
      "text/latex": [
       "3.83761026119562"
      ],
      "text/markdown": [
       "3.83761026119562"
      ],
      "text/plain": [
       "[1] 3.83761"
      ]
     },
     "metadata": {},
     "output_type": "display_data"
    }
   ],
   "source": [
    "max(Comp.sds)/min(Comp.sds)"
   ]
  },
  {
   "cell_type": "markdown",
   "metadata": {},
   "source": [
    "<b>In this case, the ratio of maximum to minimum standard deviation (3.84) is greater than 2, so this data does not satisfy the equality of variance assumption.</b>"
   ]
  },
  {
   "cell_type": "markdown",
   "metadata": {},
   "source": [
    "### Normality Test\n",
    "\n",
    "Next, we need to consider the assumption of normality of the raw observations. This can be difficult to determine in many real-data examples. At least, though, it's worthwhile to inspect histograms and QQ plots for signs of non-normality. To achieve this, we need to <em>mean-center</em> each tenure length by its respective city's mean. We can do this by taking the original vector of tenure lengths and subtracting from it the Comp.means vector, but first, we must rearrange and replicate the latter elements to correspond to the elements in the former. This is done by using as.factor on the factor vector that represents capital city, giving the numeric value of the levels of CompGov$CapitalCity for each record in the original data frame. When that vector is passed via the square brackets to Comp.means, you get the correct group mean matched to each observation. In the context of the current analysis, these group-wise, mean-centered values are also referred to as residuals. You can now assess normality of the observations as a whole using the residuals. To inspect a normal QQ plot, use qqnorm and qqline. "
   ]
  },
  {
   "cell_type": "code",
   "execution_count": 8,
   "metadata": {},
   "outputs": [
    {
     "data": {
      "text/html": [
       "<style>\n",
       ".dl-inline {width: auto; margin:0; padding: 0}\n",
       ".dl-inline>dt, .dl-inline>dd {float: none; width: auto; display: inline-block}\n",
       ".dl-inline>dt::after {content: \":\\0020\"; padding-right: .5ex}\n",
       ".dl-inline>dt:not(:first-of-type) {padding-left: .5ex}\n",
       "</style><dl class=dl-inline><dt>Algiers</dt><dd>3.07843137254902</dd><dt>Cairo</dt><dd>1.95908183632934</dd><dt>Constantine</dt><dd>5.85433293623913</dd><dt>Damascus</dt><dd>1.42897540983607</dd></dl>\n"
      ],
      "text/latex": [
       "\\begin{description*}\n",
       "\\item[Algiers] 3.07843137254902\n",
       "\\item[Cairo] 1.95908183632934\n",
       "\\item[Constantine] 5.85433293623913\n",
       "\\item[Damascus] 1.42897540983607\n",
       "\\end{description*}\n"
      ],
      "text/markdown": [
       "Algiers\n",
       ":   3.07843137254902Cairo\n",
       ":   1.95908183632934Constantine\n",
       ":   5.85433293623913Damascus\n",
       ":   1.42897540983607\n",
       "\n"
      ],
      "text/plain": [
       "    Algiers       Cairo Constantine    Damascus \n",
       "   3.078431    1.959082    5.854333    1.428975 "
      ]
     },
     "metadata": {},
     "output_type": "display_data"
    }
   ],
   "source": [
    "#Use tapply() to get each city's mean tenure. \n",
    "\n",
    "OttomanGovData.means <-tapply(OttomanGovData$Tenure, INDEX = OttomanGovData$CapitalCity, FUN=mean)\n",
    "OttomanGovData.means"
   ]
  },
  {
   "cell_type": "code",
   "execution_count": 9,
   "metadata": {},
   "outputs": [],
   "source": [
    "#Had to change from as.numeric to as.factor from chickwts example in the Book of R.\n",
    "tenure.meancen <- OttomanGovData$Tenure-OttomanGovData.means[as.factor(OttomanGovData$CapitalCode)]"
   ]
  },
  {
   "cell_type": "code",
   "execution_count": 10,
   "metadata": {},
   "outputs": [
    {
     "data": {
      "image/png": "[encoded data removed]",
      "text/plain": [
       "Plot with title \"Normal QQ plot of residuals\""
      ]
     },
     "metadata": {
      "image/png": {
       "height": 420,
       "width": 420
      }
     },
     "output_type": "display_data"
    }
   ],
   "source": [
    "qqnorm(tenure.meancen,main=\"Normal QQ plot of residuals\")\n",
    "qqline(tenure.meancen)\n",
    "\n",
    "#The QQ  plot shows that the data are not normal."
   ]
  },
  {
   "cell_type": "markdown",
   "metadata": {},
   "source": [
    "### Analysis of Comparative Ottoman Governors' Data\n",
    "1. For this application, the samples are, indeed, independent. \n",
    "2. The QQ plot shows that the data are not normaly, however. This will impact the overall effectiveness of detecting a true difference in the means.\n",
    "3. The variances are not approximately equal based on our informal comparison of maximum and minimum standard deviations above.\n",
    "\n",
    "NOTE: There are an uneven number of observations in each group, so the test is unbalanced, which makes it more sensitive to potentially detrimental effects since the assumption of normality is not well-founded.\n",
    "\n",
    "This means that the ANOVA test might be suggestive of a potential significant difference, but other methods will be needed to explore the differences between the provincial capital cities' mean tenures. "
   ]
  },
  {
   "cell_type": "markdown",
   "metadata": {},
   "source": [
    "## To run a <b>one-way ANOVA test</b>, choose the following variable types in your data set:\n",
    "<ul>\n",
    "       <li><b>Quantitative (interval or ratio) variable</b>, which is your dependent or outcome variable</li>\n",
    "        Example: Tenure length\n",
    "     <li><b>Categorical (nominal or ordinal) variable</b>, which is your independent variable and the variable by which you'll group the quantitative data.</li>\n",
    "        Example: Capital City\n",
    "</ul>\n"
   ]
  },
  {
   "cell_type": "code",
   "execution_count": 4,
   "metadata": {},
   "outputs": [
    {
     "data": {
      "text/plain": [
       "             Df Sum Sq Mean Sq F value   Pr(>F)    \n",
       "CapitalCity   3    846  282.07   24.45 7.12e-15 ***\n",
       "Residuals   555   6402   11.53                     \n",
       "---\n",
       "Signif. codes:  0 '***' 0.001 '**' 0.01 '*' 0.05 '.' 0.1 ' ' 1"
      ]
     },
     "metadata": {},
     "output_type": "display_data"
    }
   ],
   "source": [
    "#Run the ANOVA test and save it with an object name\n",
    "tenureOut <- aov(Tenure ~ CapitalCity, data=OttomanGovData) #Order matters: Dependent/outcome variable ~ Independent variable\n",
    "#Generate the ANOVA table\n",
    "summary(tenureOut)"
   ]
  },
  {
   "cell_type": "code",
   "execution_count": 5,
   "metadata": {},
   "outputs": [
    {
     "data": {
      "text/plain": [
       "             Df Sum Sq Mean Sq F value   Pr(>F)    \n",
       "CapitalCity   3    846  282.07   24.45 7.12e-15 ***\n",
       "Residuals   555   6402   11.53                     \n",
       "---\n",
       "Signif. codes:  0 '***' 0.001 '**' 0.01 '*' 0.05 '.' 0.1 ' ' 1"
      ]
     },
     "metadata": {},
     "output_type": "display_data"
    }
   ],
   "source": [
    "#single step:\n",
    "summary(aov(Tenure ~ CapitalCity, data=OttomanGovData))"
   ]
  },
  {
   "cell_type": "markdown",
   "metadata": {},
   "source": [
    "## Meaning of the ANOVA Test Results\n",
    "\n",
    "F-value: 24.45 \n",
    "If p-value < alpha, we can reject the null hypothesis.\n",
    "The standard alpha value is 0.05, which corresponds to a 95% confidence interval, but you can choose a more conservative alpha of 0.01 or even 0.001 instead prior to running your test.\n",
    "\n",
    "The p-value, which represents the probability of getting an F-value at least as large as that reported (24.45), is 7.12e-15. \n",
    "\n",
    "Between the actual numerical score of the p-value and the 3 significance stars R displays, which means that p ≤ 0.001, we can state that p < alpha = 0.01. This means we can reject the null hypothesis that the means across groups are equal. \n",
    "That, in turn, means that at least one group's mean is different, and this result, based on the\n",
    "\n",
    "There is a statistically significant difference in the mean governor tenure lengths across different Ottoman provincial capital cities between the sixteenth and nineteenth centuries. These differences can be explored with pairwise t-tests to determine which capital mean tenure lengths are most different from the others."
   ]
  },
  {
   "cell_type": "code",
   "execution_count": null,
   "metadata": {},
   "outputs": [],
   "source": []
  }
 ],
 "metadata": {
  "kernelspec": {
   "display_name": "R",
   "language": "R",
   "name": "ir"
  },
  "language_info": {
   "codemirror_mode": "r",
   "file_extension": ".r",
   "mimetype": "text/x-r-source",
   "name": "R",
   "pygments_lexer": "r",
   "version": "4.0.3"
  }
 },
 "nbformat": 4,
 "nbformat_minor": 2
}
